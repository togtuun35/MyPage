{
  "nbformat": 4,
  "nbformat_minor": 0,
  "metadata": {
    "colab": {
      "name": "lab1.ipynb",
      "provenance": [],
      "collapsed_sections": [],
      "authorship_tag": "ABX9TyN4eo44vmtOv+AwgptvfOC9",
      "include_colab_link": true
    },
    "kernelspec": {
      "name": "python3",
      "display_name": "Python 3"
    }
  },
  "cells": [
    {
      "cell_type": "markdown",
      "metadata": {
        "id": "view-in-github",
        "colab_type": "text"
      },
      "source": [
        "<a href=\"https://colab.research.google.com/github/togtuun35/MyPage/blob/main/lab1.ipynb\" target=\"_parent\"><img src=\"https://colab.research.google.com/assets/colab-badge.svg\" alt=\"Open In Colab\"/></a>"
      ]
    },
    {
      "cell_type": "markdown",
      "metadata": {
        "id": "Q2LxYqDXzW-U"
      },
      "source": [
        "**Module 1: Introduction to Python¶**\r\n",
        "\r\n",
        "Python бол өндөр түвшний програмчлалын хэл бөгөөд өгөгдөлд дүн шинжилгээ хийх янз бүрийн даалгаврыг гүйцэтгэх өргөн цар хүрээтэй сангуудтай.Дараахь зааварт Python стандарт номын санд байдаг төрөл бүрийн өгөгдлийн төрөл, функц, номын сангийн модулиудыг ашиглах жишээг оруулсан болно.Тэмдэглэлийн дэвтрийг http://www.cse.msu.edu/~ptan/dmbook/tutorials/tutorial1/tutorial1.ipynb хаягаас татаж авах боломжтой.Доорх алхам алхмаар зааврыг анхааралтай уншина уу. Кодыг гүйцэтгэхийн тулд доорх нүд бүр дээр дарж SHIFT-ENTER товчлууруудыг зэрэг дарна уу.\r\n",
        "\r\n",
        "Бид Python-ийн талаархи зарим үндсэн мэдээллээс эхэлж байна.\r\n",
        "\r\n",
        "1. Python бол C, C ++ зэрэг бусад өндөр түвшний програмчлалын хэлнүүдээс ялгаатай орчуулгатай хэл юм. Эхлээд кодыг шууд хөрвүүлэх, холбох шаардлагагүйгээр зөвхөн өөрийн Python програмыг орчуулагч дээр ажиллуулахаар өгөх шаардлагатай.\r\n",
        "2. Python бол динамикаар бичигдсэн хэл бөгөөд энэ нь хувьсах нэрс нь гүйцэтгэлийн явцад өөр өөр төрөлд холбогддог гэсэн үг юм. Java, C ++ болон бусад статикаар бичигдсэн хэлнүүдээс ялгаатай нь ашиглахаасаа өмнө хувьсагчийн төрлийг тодорхой зарлах шаардлагагүй болно.\r\n",
        "3. '{' Ба '}' хаалт ашиглахын оронд Python хоосон зайг ашиглан гогцоонд эсвэл бусад хяналтын урсгалын мэдэгдэлд холбогдох мэдэгдлийг бүлэглэнэ.\r\n",
        "4. Python нь нэг мөрт сэтгэгдлийн өмнө хэш тэмдэгтийг ('#') ашиглана. Гурвалсан ишлэл ('' ') нь олон мөрт тайлбарыг (энэ нь стандарт Python хэлний хэсэг биш ч гэсэн) эсвэл функцын доктринийг тэмдэглэхэд ихэвчлэн ашиглагддаг.\r\n",
        "5. Python нь хувьсагчийг нөгөөд оногдуулахдаа (жишээлбэл, a = b) эсвэл функцийг оролтын аргумент болгон объектыг дамжуулахдаа дамжуулалтыг (утга дамжуулахын оронд) ашигладаг. Тиймээс хуваарилагдсан хувьсагч эсвэл функц доторх оролтын аргументыг өөрчлөх нь анхны объектод нөлөөлнө.\r\n",
        "6. Python нь хоосон объектыг тэмдэглэхийн тулд None-ийг ашигладаг (жишээлбэл, a = None). Мэдэгдэл бүрийг бусад хэлнээс ялгаатай нь төгсгөлийн тэмдэгтээр (цэг таслал гэх мэт) цуцлах шаардлагагүй.\r\n",
        "7. Та импортлох командыг ашиглан өөр Python програмын файлд тодорхойлогдсон хувьсагч эсвэл функцэд хандаж болно. Энэ нь Java дахь импортын тушаал эсвэл # эсвэл C эсвэл C ++ хэл дээрх командыг оруулахтай адил юм.\r\n"
      ]
    },
    {
      "cell_type": "markdown",
      "metadata": {
        "id": "CwXaMnR9vpNj"
      },
      "source": [
        "**1.1 Elementary Data Types**\r\n",
        "\r\n",
        "1. Стандарт **Python** сан нь бүхэл тоо, буль, хөвөгч цэг, мөр зэрэг өгөгдлийн төрөл бүрийн төрлийг дэмжих үйлчилгээ үзүүлдэг. Өгөгдлийн төрлүүдийн тоймыг доорхи хүснэгтэд үзүүлэв."
      ]
    },
    {
      "cell_type": "code",
      "metadata": {
        "colab": {
          "base_uri": "https://localhost:8080/"
        },
        "id": "50ZPsSXhvihf",
        "outputId": "4a7b420b-b032-4a53-d7dd-df3b9d23d4e3"
      },
      "source": [
        "x = 4              # integer\r\n",
        "print(x, type(x))\r\n",
        "\r\n",
        "y = True           # boolean (True, False)\r\n",
        "print(y, type(y))\r\n",
        "\r\n",
        "z = 3.7            # floating point\r\n",
        "print(z, type(z))\r\n",
        "\r\n",
        "s = \"This is a string\"    # string\r\n",
        "print(s, type(s))"
      ],
      "execution_count": null,
      "outputs": [
        {
          "output_type": "stream",
          "text": [
            "4 <class 'int'>\n",
            "True <class 'bool'>\n",
            "3.7 <class 'float'>\n",
            "This is a string <class 'str'>\n"
          ],
          "name": "stdout"
        }
      ]
    },
    {
      "cell_type": "markdown",
      "metadata": {
        "id": "J3qpSjuavoKM"
      },
      "source": [
        "Дараахь бүхэл тоон ба хөвөгч цэгийн тоонуудыг удирдах арифметик үйлдлүүдийн заримыг харуулав"
      ]
    },
    {
      "cell_type": "code",
      "metadata": {
        "colab": {
          "base_uri": "https://localhost:8080/"
        },
        "id": "W7fYg9GrwIYJ",
        "outputId": "ff134476-230d-4f66-fdd4-dd07bc599dff"
      },
      "source": [
        "x = 4            # integer\r\n",
        "x1 = x + 4       # addition \r\n",
        "x2 = x * 3       # multiplication\r\n",
        "x += 2           # equivalent to x = x + 2\r\n",
        "x3 = x       \r\n",
        "x *= 3           # equivalent to x = x * 3\r\n",
        "x4 = x      \r\n",
        "x5 = x % 4       # modulo (remainder) operator\r\n",
        "\r\n",
        "z = 3.7          # floating point number\r\n",
        "z1 = z - 2       # subtraction\r\n",
        "z2 = z / 3       # division\r\n",
        "z3 = z // 3      # integer division\r\n",
        "z4 = z ** 2      # square of z \r\n",
        "z5 = z4 ** 0.5   # square root\r\n",
        "z6 = pow(z,2)    # equivalent to square of z\r\n",
        "z7 = round(z)    # rounding z to its nearest integer \r\n",
        "z8 = int(z)      # type casting float to int\r\n",
        "\r\n",
        "print(x,x1,x2,x3,x4,x5)\r\n",
        "print(z,z1,z2,z3,z4)\r\n",
        "print(z5,z6,z7,z8)"
      ],
      "execution_count": null,
      "outputs": [
        {
          "output_type": "stream",
          "text": [
            "18 8 12 6 18 2\n",
            "3.7 1.7000000000000002 1.2333333333333334 1.0 13.690000000000001\n",
            "3.7 13.690000000000001 4 3\n"
          ],
          "name": "stdout"
        }
      ]
    },
    {
      "cell_type": "markdown",
      "metadata": {
        "id": "9I1RQU2UwJz5"
      },
      "source": [
        "Математикийн модулийн бүхэл тоо ба хөвөгч цэгийн тоогоор хангах зарим функцийг дор харуулав"
      ]
    },
    {
      "cell_type": "code",
      "metadata": {
        "colab": {
          "base_uri": "https://localhost:8080/"
        },
        "id": "mwQMuFyfwOkh",
        "outputId": "17efc831-2edb-4691-c475-87bc565e984f"
      },
      "source": [
        "import math\r\n",
        "\r\n",
        "x = 4\r\n",
        "print(math.sqrt(x))      # sqrt(4) = 2\r\n",
        "print(math.pow(x,2))     # 4**2 = 16\r\n",
        "print(math.exp(x))       # exp(4) = 54.6\r\n",
        "print(math.log(x,2))     # log based 2  (default is natural logarithm)\r\n",
        "print(math.fabs(-4))     # absolute value\r\n",
        "print(math.factorial(x)) # 4! = 4 x 3 x 2 x 1 = 24\r\n",
        "\r\n",
        "z = 0.2\r\n",
        "print(math.ceil(z))      # ceiling function\r\n",
        "print(math.floor(z))     # floor function\r\n",
        "print(math.trunc(z))     # truncate function\r\n",
        "\r\n",
        "z = 3*math.pi            # math.pi = 3.141592653589793 \r\n",
        "print(math.sin(z))       # sine function\r\n",
        "print(math.tanh(z))      # arctan function\r\n",
        "\r\n",
        "x = math.nan             # not a number\r\n",
        "print(math.isnan(x))\r\n",
        "\r\n",
        "x = math.inf             # infinity\r\n",
        "print(math.isinf(x))"
      ],
      "execution_count": null,
      "outputs": [
        {
          "output_type": "stream",
          "text": [
            "2.0\n",
            "16.0\n",
            "54.598150033144236\n",
            "2.0\n",
            "4.0\n",
            "24\n",
            "1\n",
            "0\n",
            "0\n",
            "3.6739403974420594e-16\n",
            "0.9999999869751758\n",
            "True\n",
            "True\n"
          ],
          "name": "stdout"
        }
      ]
    },
    {
      "cell_type": "markdown",
      "metadata": {
        "id": "c_TUJe7iwR3y"
      },
      "source": [
        "Дараахь логик үйлдлүүдийн логик үйлдлүүдийн заримыг доор харуулав"
      ]
    },
    {
      "cell_type": "code",
      "metadata": {
        "colab": {
          "base_uri": "https://localhost:8080/"
        },
        "id": "G6X8hllbwWZh",
        "outputId": "4d2b4442-2bb0-4e38-b043-c2e47326ccfe"
      },
      "source": [
        "y1 = True\r\n",
        "y2 = False\r\n",
        "\r\n",
        "print(y1 and y2)       # logical AND\r\n",
        "print(y1 or y2)        # logical OR\r\n",
        "print(y1 and not y2)   # logical NOT"
      ],
      "execution_count": null,
      "outputs": [
        {
          "output_type": "stream",
          "text": [
            "False\n",
            "True\n",
            "True\n"
          ],
          "name": "stdout"
        }
      ]
    },
    {
      "cell_type": "markdown",
      "metadata": {
        "id": "q5PtN48hwZBi"
      },
      "source": [
        "Мөрүүдийг удирдах зарим үйлдлүүд ба функцуудыг дор харуулав"
      ]
    },
    {
      "cell_type": "code",
      "metadata": {
        "colab": {
          "base_uri": "https://localhost:8080/"
        },
        "id": "SMq98g3iwerC",
        "outputId": "ec5a1af0-822c-4a5b-9ad6-54ea240e6ceb"
      },
      "source": [
        "s1 = \"This\"\r\n",
        "\r\n",
        "print(s1[1:])                    # print last three characters \r\n",
        "print(len(s1))                               # get the string length\r\n",
        "print(\"Length of string is \" + str(len(s1))) # type casting int to str\r\n",
        "print(s1.upper())                            # convert to upper case\r\n",
        "print(s1.lower())                            # convert to lower case\r\n",
        "\r\n",
        "s2 = \"This is a string\"\r\n",
        "words = s2.split(' ')             # split the string into words\r\n",
        "print(words[0])\r\n",
        "print(s2.replace('a','another'))  # replace \"a\" with \"another\"\r\n",
        "print(s2.replace('is','at'))      # replace \"is\" with \"at\"\r\n",
        "print(s2.find(\"a\"))               # find the position of \"a\" in s2\r\n",
        "print(s1 in s2)                   # check if s1 is a substring of s2\r\n",
        "\r\n",
        "print(s1 == 'This')               # equality comparison\r\n",
        "print(s1 < 'That')                # inequality comparison\r\n",
        "print(s2 + \" too\")                # string concatenation\r\n",
        "print((s1 + \" \")* 3)              # replicate the string 3 times"
      ],
      "execution_count": null,
      "outputs": [
        {
          "output_type": "stream",
          "text": [
            "his\n",
            "4\n",
            "Length of string is 4\n",
            "THIS\n",
            "this\n",
            "This\n",
            "This is another string\n",
            "That at a string\n",
            "8\n",
            "True\n",
            "True\n",
            "False\n",
            "This is a string too\n",
            "This This This \n"
          ],
          "name": "stdout"
        }
      ]
    },
    {
      "cell_type": "markdown",
      "metadata": {
        "id": "29gkMUEowhGK"
      },
      "source": [
        "**1.2 Compound Data Types**\r\n",
        "\r\n",
        "Жагсаалтын объектыг хэрхэн үүсгэх, удирдах талаар дараахь жишээнүүд харуулав"
      ]
    },
    {
      "cell_type": "code",
      "metadata": {
        "colab": {
          "base_uri": "https://localhost:8080/"
        },
        "id": "ShwyCEf6wkYj",
        "outputId": "ae4e513a-eae3-4fb2-9b69-2b7839da1132"
      },
      "source": [
        "intlist = [1, 3, 5, 7, 9]\r\n",
        "print(type(intlist))\r\n",
        "print(intlist)\r\n",
        "intlist2 = list(range(0,10,2))   # range[startvalue, endvalue, stepsize]\r\n",
        "print(intlist2)\r\n",
        "\r\n",
        "print(intlist[2])                # get the third element of the list\r\n",
        "print(intlist[:2])               # get the first two elements\r\n",
        "print(intlist[2:])               # get the last three elements of the list\r\n",
        "print(len(intlist))              # get the number of elements in the list\r\n",
        "print(sum(intlist))              # sums up elements of the list\r\n",
        "\r\n",
        "intlist.append(11)               # insert 11 to end of the list\r\n",
        "print(intlist)\r\n",
        "print(intlist.pop())             # remove last element of the list\r\n",
        "print(intlist)\r\n",
        "print(intlist + [11,13,15])      # concatenate two lists\r\n",
        "print(intlist * 3)               # replicate the list\r\n",
        "intlist.insert(2,4)              # insert item 4 at index 2  \r\n",
        "print(intlist)\r\n",
        "intlist.sort(reverse=True)       # sort elements in descending order\r\n",
        "print(intlist)"
      ],
      "execution_count": null,
      "outputs": [
        {
          "output_type": "stream",
          "text": [
            "<class 'list'>\n",
            "[1, 3, 5, 7, 9]\n",
            "[0, 2, 4, 6, 8]\n",
            "5\n",
            "[1, 3]\n",
            "[5, 7, 9]\n",
            "5\n",
            "25\n",
            "[1, 3, 5, 7, 9, 11]\n",
            "11\n",
            "[1, 3, 5, 7, 9]\n",
            "[1, 3, 5, 7, 9, 11, 13, 15]\n",
            "[1, 3, 5, 7, 9, 1, 3, 5, 7, 9, 1, 3, 5, 7, 9]\n",
            "[1, 3, 4, 5, 7, 9]\n",
            "[9, 7, 5, 4, 3, 1]\n"
          ],
          "name": "stdout"
        }
      ]
    },
    {
      "cell_type": "code",
      "metadata": {
        "colab": {
          "base_uri": "https://localhost:8080/"
        },
        "id": "J9B5tyXlwrD6",
        "outputId": "5dfc3ecc-c6d8-4b43-a521-fb7624b0340a"
      },
      "source": [
        "mylist = ['this', 'is', 'a', 'list']\r\n",
        "print(mylist)\r\n",
        "print(type(mylist))\r\n",
        "\r\n",
        "print(\"list\" in mylist)          # check whether \"list\" is in mylist\r\n",
        "print(mylist[2])                 # show the 3rd element of the list\r\n",
        "print(mylist[:2])                # show the first two elements of the list\r\n",
        "print(mylist[2:])                # show the last two elements of the list\r\n",
        "mylist.append(\"too\")             # insert element to end of the list\r\n",
        "\r\n",
        "separator = \" \"\r\n",
        "print(separator.join(mylist))    # merge all elements of the list into a string\r\n",
        "\r\n",
        "mylist.remove(\"is\")              # remove element from list\r\n",
        "print(mylist)"
      ],
      "execution_count": null,
      "outputs": [
        {
          "output_type": "stream",
          "text": [
            "['this', 'is', 'a', 'list']\n",
            "<class 'list'>\n",
            "True\n",
            "a\n",
            "['this', 'is']\n",
            "['a', 'list']\n",
            "this is a list too\n",
            "['this', 'a', 'list', 'too']\n"
          ],
          "name": "stdout"
        }
      ]
    },
    {
      "cell_type": "markdown",
      "metadata": {
        "id": "CduDkGbNwp3K"
      },
      "source": [
        "Толь бичгийн объектыг хэрхэн үүсгэх, удирдах талаар дараахь жишээнүүд харуулав"
      ]
    },
    {
      "cell_type": "code",
      "metadata": {
        "colab": {
          "base_uri": "https://localhost:8080/"
        },
        "id": "qXCVuHXUwy6K",
        "outputId": "43245f4d-b424-4eea-bc6e-0ec90f720c70"
      },
      "source": [
        "abbrev = {}\r\n",
        "abbrev['MI'] = \"Michigan\"\r\n",
        "abbrev['MN'] = \"Minnesota\"\r\n",
        "abbrev['TX'] = \"Texas\"\r\n",
        "abbrev['CA'] = \"California\"\r\n",
        "\r\n",
        "print(abbrev)\r\n",
        "print(abbrev.keys())            # get the keys of the dictionary\r\n",
        "print(abbrev.values())          # get the values of the dictionary\r\n",
        "print(len(abbrev))              # get number of key-value pairs\r\n",
        "\r\n",
        "print(abbrev.get('MI'))\r\n",
        "print(\"FL\" in abbrev)\r\n",
        "print(\"CA\" in abbrev)\r\n",
        "\r\n",
        "keys = ['apples', 'oranges', 'bananas', 'cherries']\r\n",
        "values = [3, 4, 2, 10]\r\n",
        "fruits = dict(zip(keys, values))\r\n",
        "print(fruits)\r\n",
        "print(sorted(fruits))     # sort keys of dictionary\r\n",
        "\r\n",
        "from operator import itemgetter\r\n",
        "print(sorted(fruits.items(), key=itemgetter(0)))    # sort by key of dictionary\r\n",
        "print(sorted(fruits.items(), key=itemgetter(1)))    # sort by value of dictionary"
      ],
      "execution_count": null,
      "outputs": [
        {
          "output_type": "stream",
          "text": [
            "{'MI': 'Michigan', 'MN': 'Minnesota', 'TX': 'Texas', 'CA': 'California'}\n",
            "dict_keys(['MI', 'MN', 'TX', 'CA'])\n",
            "dict_values(['Michigan', 'Minnesota', 'Texas', 'California'])\n",
            "4\n",
            "Michigan\n",
            "False\n",
            "True\n",
            "{'apples': 3, 'oranges': 4, 'bananas': 2, 'cherries': 10}\n",
            "['apples', 'bananas', 'cherries', 'oranges']\n",
            "[('apples', 3), ('bananas', 2), ('cherries', 10), ('oranges', 4)]\n",
            "[('bananas', 2), ('apples', 3), ('oranges', 4), ('cherries', 10)]\n"
          ],
          "name": "stdout"
        }
      ]
    },
    {
      "cell_type": "markdown",
      "metadata": {
        "id": "azDslb6dw2zK"
      },
      "source": [
        "Дараахь жишээнүүд нь tuple объектыг хэрхэн үүсгэх, хэрхэн удирдахыг харуулдаг. Жагсаалтаас ялгаатай нь tuple объект өөрчлөгдөхгүй, өөрөөр хэлбэл тэдгээрийг үүсгэсний дараа өөрчлөх боломжгүй юм."
      ]
    },
    {
      "cell_type": "code",
      "metadata": {
        "colab": {
          "base_uri": "https://localhost:8080/"
        },
        "id": "wMm6ZXmrw6PD",
        "outputId": "969ea231-4b95-42b8-e478-4b90609a2136"
      },
      "source": [
        "MItuple = ('MI', 'Michigan', 'Lansing')\r\n",
        "CAtuple = ('CA', 'California', 'Sacramento')\r\n",
        "TXtuple = ('TX', 'Texas', 'Austin')\r\n",
        "\r\n",
        "print(MItuple)\r\n",
        "print(MItuple[1:])\r\n",
        "\r\n",
        "states = [MItuple, CAtuple, TXtuple]    # this will create a list of tuples\r\n",
        "print(states)\r\n",
        "print(states[2])\r\n",
        "print(states[2][:])\r\n",
        "print(states[2][1:])\r\n",
        "\r\n",
        "states.sort(key=lambda state: state[2])  # sort the states by their capital cities\r\n",
        "print(states)"
      ],
      "execution_count": null,
      "outputs": [
        {
          "output_type": "stream",
          "text": [
            "('MI', 'Michigan', 'Lansing')\n",
            "('Michigan', 'Lansing')\n",
            "[('MI', 'Michigan', 'Lansing'), ('CA', 'California', 'Sacramento'), ('TX', 'Texas', 'Austin')]\n",
            "('TX', 'Texas', 'Austin')\n",
            "('TX', 'Texas', 'Austin')\n",
            "('Texas', 'Austin')\n",
            "[('TX', 'Texas', 'Austin'), ('MI', 'Michigan', 'Lansing'), ('CA', 'California', 'Sacramento')]\n"
          ],
          "name": "stdout"
        }
      ]
    },
    {
      "cell_type": "markdown",
      "metadata": {
        "id": "IRcIR347w75Q"
      },
      "source": [
        "**1.3 Control Flow Statements**\r\n",
        "\r\n",
        "Бусад програмчлалын хэлтэй адил Python дахь хяналтын урсгалын мэдэгдэлд if, for, while гэсэн өгүүлбэрүүд орно. Эдгээр мэдэгдлийг хэрхэн ашиглах талаархи жишээг доор харуулав."
      ]
    },
    {
      "cell_type": "code",
      "metadata": {
        "colab": {
          "base_uri": "https://localhost:8080/"
        },
        "id": "s0pgSj2XxI1R",
        "outputId": "aca6f85e-8695-41f3-9c38-4b672c9a9f99"
      },
      "source": [
        "# using if-else statement\r\n",
        "\r\n",
        "x = 10\r\n",
        "\r\n",
        "if x % 2 == 0:\r\n",
        "    print(\"x =\", x, \"is even\")\r\n",
        "else:\r\n",
        "    print(\"x =\", x, \"is odd\")\r\n",
        "\r\n",
        "if x > 0:\r\n",
        "    print(\"x =\", x, \"is positive\")\r\n",
        "elif x < 0:\r\n",
        "    print(\"x =\", x, \"is negative\")\r\n",
        "else:\r\n",
        "    print(\"x =\", x, \"is neither positive nor negative\")"
      ],
      "execution_count": null,
      "outputs": [
        {
          "output_type": "stream",
          "text": [
            "x = 10 is even\n",
            "x = 10 is positive\n"
          ],
          "name": "stdout"
        }
      ]
    },
    {
      "cell_type": "code",
      "metadata": {
        "colab": {
          "base_uri": "https://localhost:8080/"
        },
        "id": "8lQ8Ou11xNgq",
        "outputId": "3fdc372c-2500-445f-f218-a1d515e90837"
      },
      "source": [
        "# using for loop with a list\r\n",
        "\r\n",
        "mylist = ['this', 'is', 'a', 'list']\r\n",
        "for word in mylist:\r\n",
        "    print(word.replace(\"is\", \"at\"))\r\n",
        "    \r\n",
        "mylist2 = [len(word) for word in mylist]   # number of characters in each word\r\n",
        "print(mylist2)\r\n",
        "\r\n",
        "# using for loop with list of tuples\r\n",
        "\r\n",
        "states = [('MI', 'Michigan', 'Lansing'),('CA', 'California', 'Sacramento'),\r\n",
        "          ('TX', 'Texas', 'Austin')]\r\n",
        "\r\n",
        "sorted_capitals = [state[2] for state in states]\r\n",
        "sorted_capitals.sort()\r\n",
        "print(sorted_capitals)\r\n",
        "\r\n",
        "# using for loop with dictionary\r\n",
        "\r\n",
        "fruits = {'apples': 3, 'oranges': 4, 'bananas': 2, 'cherries': 10}\r\n",
        "fruitnames = [k for (k,v) in fruits.items()]\r\n",
        "print(fruitnames)"
      ],
      "execution_count": null,
      "outputs": [
        {
          "output_type": "stream",
          "text": [
            "that\n",
            "at\n",
            "a\n",
            "latt\n",
            "[4, 2, 1, 4]\n",
            "['Austin', 'Lansing', 'Sacramento']\n",
            "['apples', 'oranges', 'bananas', 'cherries']\n"
          ],
          "name": "stdout"
        }
      ]
    },
    {
      "cell_type": "code",
      "metadata": {
        "colab": {
          "base_uri": "https://localhost:8080/"
        },
        "id": "AUfS-F6JxP1q",
        "outputId": "9ea26128-4268-4684-b425-f2bdbda47e27"
      },
      "source": [
        "# using while loop\r\n",
        "\r\n",
        "mylist = list(range(-10,10))\r\n",
        "print(mylist)\r\n",
        "\r\n",
        "i = 0\r\n",
        "while (mylist[i] < 0):\r\n",
        "    i = i + 1\r\n",
        "    \r\n",
        "print(\"First non-negative number:\", mylist[i])"
      ],
      "execution_count": null,
      "outputs": [
        {
          "output_type": "stream",
          "text": [
            "[-10, -9, -8, -7, -6, -5, -4, -3, -2, -1, 0, 1, 2, 3, 4, 5, 6, 7, 8, 9]\n",
            "First non-negative number: 0\n"
          ],
          "name": "stdout"
        }
      ]
    },
    {
      "cell_type": "markdown",
      "metadata": {
        "id": "51DKfdeWxTe7"
      },
      "source": [
        "**1.4 User-Defined Functions**\r\n",
        "\r\n",
        "Та Python дээр өөрийн нэр, нэргүй функцуудыг бий болгож болно. Нэргүй функцуудыг жишээний жагсаалтыг ялгахад өмнөх жишээнд үзүүлсэн шиг lambda түлхүүр үгийг ашиглан тодорхойлсон болно."
      ]
    },
    {
      "cell_type": "code",
      "metadata": {
        "colab": {
          "base_uri": "https://localhost:8080/"
        },
        "id": "MrQWEvzjxSk7",
        "outputId": "f623a00b-91d8-4b4f-e265-9b2f70ed2814"
      },
      "source": [
        "myfunc = lambda x: 3*x**2 - 2*x + 3      # example of an unnamed quadratic function\r\n",
        "\r\n",
        "print(myfunc(2))"
      ],
      "execution_count": null,
      "outputs": [
        {
          "output_type": "stream",
          "text": [
            "11\n"
          ],
          "name": "stdout"
        }
      ]
    },
    {
      "cell_type": "code",
      "metadata": {
        "colab": {
          "base_uri": "https://localhost:8080/"
        },
        "id": "jeFEz8j2xYwg",
        "outputId": "fa54c29e-6610-43b4-e832-0476c2456013"
      },
      "source": [
        "import math\r\n",
        "\r\n",
        "# The following function will discard missing values from a list\r\n",
        "def discard(inlist, sortFlag=False):    # default value for sortFlag is False \r\n",
        "    outlist = []\r\n",
        "    for item in inlist:\r\n",
        "        if not math.isnan(item):\r\n",
        "            outlist.append(item)\r\n",
        "            \r\n",
        "    if sortFlag:\r\n",
        "        outlist.sort()\r\n",
        "    return outlist\r\n",
        "\r\n",
        "mylist = [12, math.nan, 23, -11, 45, math.nan, 71]\r\n",
        "\r\n",
        "print(discard(mylist,True))  "
      ],
      "execution_count": null,
      "outputs": [
        {
          "output_type": "stream",
          "text": [
            "[-11, 12, 23, 45, 71]\n"
          ],
          "name": "stdout"
        }
      ]
    },
    {
      "cell_type": "markdown",
      "metadata": {
        "id": "uIKA_b2NxbUV"
      },
      "source": [
        "**1.5 File I/O**\r\n",
        "\r\n",
        "Та жагсаалт эсвэл бусад объектоос өгөгдлийг файл руу унших, бичих боломжтой."
      ]
    },
    {
      "cell_type": "code",
      "metadata": {
        "colab": {
          "base_uri": "https://localhost:8080/"
        },
        "id": "ijSE-UCnxdu7",
        "outputId": "3853404b-b126-4f62-8549-65d68fd5ae1f"
      },
      "source": [
        "states = [('MI', 'Michigan', 'Lansing'),('CA', 'California', 'Sacramento'),\r\n",
        "          ('TX', 'Texas', 'Austin'), ('MN', 'Minnesota', 'St Paul')]\r\n",
        "\r\n",
        "with open('states.txt', 'w') as f:\r\n",
        "    f.write('\\n'.join('%s,%s,%s' % state for state in states))\r\n",
        "    \r\n",
        "with open('states.txt', 'r') as f:\r\n",
        "    for line in f:\r\n",
        "        fields = line.split(sep=',')    # split each line into its respective fields\r\n",
        "        print('State=',fields[1],'(',fields[0],')','Capital:', fields[2])"
      ],
      "execution_count": null,
      "outputs": [
        {
          "output_type": "stream",
          "text": [
            "State= Michigan ( MI ) Capital: Lansing\n",
            "\n",
            "State= California ( CA ) Capital: Sacramento\n",
            "\n",
            "State= Texas ( TX ) Capital: Austin\n",
            "\n",
            "State= Minnesota ( MN ) Capital: St Paul\n"
          ],
          "name": "stdout"
        }
      ]
    }
  ]
}